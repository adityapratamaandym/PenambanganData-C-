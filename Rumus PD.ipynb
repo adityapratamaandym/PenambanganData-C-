{
 "cells": [
  {
   "cell_type": "markdown",
   "metadata": {},
   "source": [
    "1.Rata rata adalah suatu bilangan yang mewakili sekumpulan data\n",
    "   Rumus : \\begin{align}*bar{x}\\frac{\\sum X}{N}\\end{align*}\n",
    "2.Median adalah nilai tengah atau pemusatan data\n",
    "    Rumus : \\begin{align*}\\left{/frac{n+1}{2}\\right}\\end{align*}\n",
    "3.Modus adalah data yang sering muncul\n",
    "    Rumus : nilai yang paling banyak muncul\n",
    "4.Standart Deviasi adalah nilai statistik yang digunakan untuk menentukan sebaran data dalam sampel\n",
    "    Rumus :  \\begin{align*}sigma = \\sqrt{\\frac{1}{N}\\sum{i=1}^{N}}\\left(x_{i}-\\mu \\right)^)}\\end{align*}\n",
    "5.Varian adalah ukuran seberapa jauh kumpulan bilangan tersebar\n",
    "    Rumus :  \\begin{align*}s^{2}\\frac{n\\sum_{n}^{i=1}x_{i}^{2}-\\left ( \\sum_{i=1}^{n}x_{1} \\right )^{2}}{n\\left ( n-1 \\right )}\\end{align*}\n",
    "6.Skewness adalah derajatketidaksimetrisan suatu distribusi\n",
    "    rumus:\\begin{align*}\\frac{\\sum_{i}^{N\\left ( X_{i} -X\\right )^{3}}}{\\left ( N-1 \\right )x\\sigma ^{3}}\\end{align*}\n",
    "7.Quartil adalah nilai-nilai yang membagi data yang telah diurutkan ke dalam empat bagian yang nilainya sama besar. Dalam menentukan letak kuartil data tunggal\n",
    "    Rumus :"
   ]
  }
 ],
 "metadata": {
  "kernelspec": {
   "display_name": "Python 3",
   "language": "python",
   "name": "python3"
  },
  "language_info": {
   "codemirror_mode": {
    "name": "ipython",
    "version": 3
   },
   "file_extension": ".py",
   "mimetype": "text/x-python",
   "name": "python",
   "nbconvert_exporter": "python",
   "pygments_lexer": "ipython3",
   "version": "3.7.1"
  }
 },
 "nbformat": 4,
 "nbformat_minor": 2
}
